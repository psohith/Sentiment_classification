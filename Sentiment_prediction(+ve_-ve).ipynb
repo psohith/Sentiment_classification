{
 "cells": [
  {
   "cell_type": "code",
   "execution_count": 29,
   "id": "58fc9296",
   "metadata": {},
   "outputs": [],
   "source": [
    "import numpy as np\n",
    "import random\n",
    "import json\n",
    "import pandas as pd"
   ]
  },
  {
   "cell_type": "markdown",
   "id": "09ecb5ae",
   "metadata": {},
   "source": [
    "# creating classes"
   ]
  },
  {
   "cell_type": "code",
   "execution_count": 25,
   "id": "48351ed6",
   "metadata": {},
   "outputs": [],
   "source": [
    "\n",
    "class Sentiment():\n",
    "    NEGATIVE = 'NEGATIVE'\n",
    "    POSITIVE = 'POSITIVE'\n",
    "\n",
    "class Review():\n",
    "    def __init__(self,text,rating):\n",
    "        self.text = text.replace('.','').replace(',','').replace('?','').replace('!','')\n",
    "        self.rating = rating\n",
    "        self.sentiment = self.get_sentiment()\n",
    "    \n",
    "    def get_sentiment(self):\n",
    "        if self.rating > 2.5:\n",
    "            return Sentiment.POSITIVE\n",
    "        else:\n",
    "            return Sentiment.NEGATIVE\n",
    "\n",
    "class ReviewContainer():  \n",
    "    def __init__(self ,reviews):\n",
    "        self.reviews = reviews\n",
    "    \n",
    "    def get_text(self):\n",
    "        return [x.text for x  in self.reviews]\n",
    "    \n",
    "    def get_sentiment(self):\n",
    "        return [x.sentiment for x in self.reviews]\n",
    "    \n",
    "    def evenly_distribute(self):\n",
    "        negitive_reviews = list(filter(lambda x : x.sentiment == Sentiment.NEGATIVE , self.reviews))\n",
    "        positive_reviews = list(filter(lambda x : x.sentiment == Sentiment.POSITIVE , self.reviews))\n",
    "        random.shuffle(positive_reviews)\n",
    "        positive_reviews = positive_reviews[:len(negitive_reviews)]\n",
    "        self.reviews = negitive_reviews + positive_reviews\n",
    "        random.shuffle(self.reviews)"
   ]
  },
  {
   "cell_type": "markdown",
   "id": "4f2c3f5a",
   "metadata": {},
   "source": [
    "# Collecting DATA from JSON"
   ]
  },
  {
   "cell_type": "code",
   "execution_count": 26,
   "id": "49a72810",
   "metadata": {},
   "outputs": [
    {
     "name": "stdout",
     "output_type": "stream",
     "text": [
      "Former co-teacher and national presenter Anne Beninghof shares stories and real-life co-taught lesson examples that emphasize creative yet time-efficient instructional strategies that lend themselves beautifully to the co-taught classroom Teachers and instructional leaders at all levels and in a wide variety of content areas will find this book replete with valuable co-teaching guidance so that success is guaranteedOffers tips for effective teaching strategies for every type of team teaching situation imaginableIncludes guidelines for successful team-teaching with specialists in technology; literacy; occupational/physical therapy; special education; speech-language therapy; ELL; giftedThe author is an internationally recognized consultant and trainerThis user-friendly comprehensive book is filled with concrete ideas teachers can implement immediately in the classroom to boost student learning and engagement\n",
      "\n",
      "5.0\n",
      "\n",
      "POSITIVE\n"
     ]
    }
   ],
   "source": [
    "reviews = []\n",
    "with open('Books_small_10000.json') as file:\n",
    "    for line in file:\n",
    "        review = json.loads(line)\n",
    "#         print(review)\n",
    "        reviews.append(Review(review['reviewText'],review['overall']))\n",
    "        \n",
    "    \n",
    "print(reviews[n].text)\n",
    "print()\n",
    "print(reviews[n].rating)\n",
    "print()\n",
    "print(reviews[n].sentiment)\n",
    "        "
   ]
  },
  {
   "cell_type": "code",
   "execution_count": 30,
   "id": "aebead89",
   "metadata": {
    "scrolled": true
   },
   "outputs": [
    {
     "data": {
      "text/html": [
       "<div>\n",
       "<style scoped>\n",
       "    .dataframe tbody tr th:only-of-type {\n",
       "        vertical-align: middle;\n",
       "    }\n",
       "\n",
       "    .dataframe tbody tr th {\n",
       "        vertical-align: top;\n",
       "    }\n",
       "\n",
       "    .dataframe thead th {\n",
       "        text-align: right;\n",
       "    }\n",
       "</style>\n",
       "<table border=\"1\" class=\"dataframe\">\n",
       "  <thead>\n",
       "    <tr style=\"text-align: right;\">\n",
       "      <th></th>\n",
       "      <th>reviewText</th>\n",
       "      <th>rating</th>\n",
       "      <th>sentiment</th>\n",
       "    </tr>\n",
       "  </thead>\n",
       "  <tbody>\n",
       "    <tr>\n",
       "      <th>0</th>\n",
       "      <td>I bought both boxed sets books 1-5  Really a g...</td>\n",
       "      <td>5.0</td>\n",
       "      <td>POSITIVE</td>\n",
       "    </tr>\n",
       "    <tr>\n",
       "      <th>1</th>\n",
       "      <td>I enjoyed this short book But it was way way t...</td>\n",
       "      <td>3.0</td>\n",
       "      <td>POSITIVE</td>\n",
       "    </tr>\n",
       "    <tr>\n",
       "      <th>2</th>\n",
       "      <td>I love Nicholas Sparks I&amp;#8217;ve read everyth...</td>\n",
       "      <td>4.0</td>\n",
       "      <td>POSITIVE</td>\n",
       "    </tr>\n",
       "    <tr>\n",
       "      <th>3</th>\n",
       "      <td>I really enjoyed this adventure and look forwa...</td>\n",
       "      <td>4.0</td>\n",
       "      <td>POSITIVE</td>\n",
       "    </tr>\n",
       "    <tr>\n",
       "      <th>4</th>\n",
       "      <td>It was a decent read typical story line Nothin...</td>\n",
       "      <td>3.0</td>\n",
       "      <td>POSITIVE</td>\n",
       "    </tr>\n",
       "  </tbody>\n",
       "</table>\n",
       "</div>"
      ],
      "text/plain": [
       "                                          reviewText  rating sentiment\n",
       "0  I bought both boxed sets books 1-5  Really a g...     5.0  POSITIVE\n",
       "1  I enjoyed this short book But it was way way t...     3.0  POSITIVE\n",
       "2  I love Nicholas Sparks I&#8217;ve read everyth...     4.0  POSITIVE\n",
       "3  I really enjoyed this adventure and look forwa...     4.0  POSITIVE\n",
       "4  It was a decent read typical story line Nothin...     3.0  POSITIVE"
      ]
     },
     "execution_count": 30,
     "metadata": {},
     "output_type": "execute_result"
    }
   ],
   "source": [
    "df = pd.DataFrame(data = {\n",
    "    'reviewText' : [x.text for x in reviews],\n",
    "    'rating' : [x.rating for x in reviews],\n",
    "    'sentiment' : [x.sentiment for x in reviews]\n",
    "})\n",
    "df.head()"
   ]
  },
  {
   "cell_type": "code",
   "execution_count": 31,
   "id": "feadd769",
   "metadata": {
    "scrolled": true
   },
   "outputs": [
    {
     "data": {
      "text/html": [
       "<div>\n",
       "<style scoped>\n",
       "    .dataframe tbody tr th:only-of-type {\n",
       "        vertical-align: middle;\n",
       "    }\n",
       "\n",
       "    .dataframe tbody tr th {\n",
       "        vertical-align: top;\n",
       "    }\n",
       "\n",
       "    .dataframe thead th {\n",
       "        text-align: right;\n",
       "    }\n",
       "</style>\n",
       "<table border=\"1\" class=\"dataframe\">\n",
       "  <thead>\n",
       "    <tr style=\"text-align: right;\">\n",
       "      <th></th>\n",
       "      <th>reviewText</th>\n",
       "      <th>rating</th>\n",
       "      <th>sentiment</th>\n",
       "    </tr>\n",
       "  </thead>\n",
       "  <tbody>\n",
       "    <tr>\n",
       "      <th>6</th>\n",
       "      <td>The book has the fevered intensity of Oliver S...</td>\n",
       "      <td>2.0</td>\n",
       "      <td>NEGATIVE</td>\n",
       "    </tr>\n",
       "    <tr>\n",
       "      <th>47</th>\n",
       "      <td>I read the full account so felt this was a was...</td>\n",
       "      <td>1.0</td>\n",
       "      <td>NEGATIVE</td>\n",
       "    </tr>\n",
       "    <tr>\n",
       "      <th>50</th>\n",
       "      <td>Did not enjoy this book  it was boring and end...</td>\n",
       "      <td>1.0</td>\n",
       "      <td>NEGATIVE</td>\n",
       "    </tr>\n",
       "    <tr>\n",
       "      <th>52</th>\n",
       "      <td>this book is too much like the wheatbelly book...</td>\n",
       "      <td>2.0</td>\n",
       "      <td>NEGATIVE</td>\n",
       "    </tr>\n",
       "    <tr>\n",
       "      <th>54</th>\n",
       "      <td>Was not really sure what this book was about  ...</td>\n",
       "      <td>2.0</td>\n",
       "      <td>NEGATIVE</td>\n",
       "    </tr>\n",
       "    <tr>\n",
       "      <th>...</th>\n",
       "      <td>...</td>\n",
       "      <td>...</td>\n",
       "      <td>...</td>\n",
       "    </tr>\n",
       "    <tr>\n",
       "      <th>9981</th>\n",
       "      <td>I am very picky when it comes to what I like t...</td>\n",
       "      <td>1.0</td>\n",
       "      <td>NEGATIVE</td>\n",
       "    </tr>\n",
       "    <tr>\n",
       "      <th>9982</th>\n",
       "      <td>*I received a free copy of this book to read a...</td>\n",
       "      <td>2.0</td>\n",
       "      <td>NEGATIVE</td>\n",
       "    </tr>\n",
       "    <tr>\n",
       "      <th>9984</th>\n",
       "      <td>Having this book toted as a YA series on Amazo...</td>\n",
       "      <td>1.0</td>\n",
       "      <td>NEGATIVE</td>\n",
       "    </tr>\n",
       "    <tr>\n",
       "      <th>9993</th>\n",
       "      <td>I've tried to start this graphic novel a coupl...</td>\n",
       "      <td>2.0</td>\n",
       "      <td>NEGATIVE</td>\n",
       "    </tr>\n",
       "    <tr>\n",
       "      <th>9994</th>\n",
       "      <td>Not so Much this  There is a less genuine resp...</td>\n",
       "      <td>2.0</td>\n",
       "      <td>NEGATIVE</td>\n",
       "    </tr>\n",
       "  </tbody>\n",
       "</table>\n",
       "<p>644 rows × 3 columns</p>\n",
       "</div>"
      ],
      "text/plain": [
       "                                             reviewText  rating sentiment\n",
       "6     The book has the fevered intensity of Oliver S...     2.0  NEGATIVE\n",
       "47    I read the full account so felt this was a was...     1.0  NEGATIVE\n",
       "50    Did not enjoy this book  it was boring and end...     1.0  NEGATIVE\n",
       "52    this book is too much like the wheatbelly book...     2.0  NEGATIVE\n",
       "54    Was not really sure what this book was about  ...     2.0  NEGATIVE\n",
       "...                                                 ...     ...       ...\n",
       "9981  I am very picky when it comes to what I like t...     1.0  NEGATIVE\n",
       "9982  *I received a free copy of this book to read a...     2.0  NEGATIVE\n",
       "9984  Having this book toted as a YA series on Amazo...     1.0  NEGATIVE\n",
       "9993  I've tried to start this graphic novel a coupl...     2.0  NEGATIVE\n",
       "9994  Not so Much this  There is a less genuine resp...     2.0  NEGATIVE\n",
       "\n",
       "[644 rows x 3 columns]"
      ]
     },
     "execution_count": 31,
     "metadata": {},
     "output_type": "execute_result"
    }
   ],
   "source": [
    "df[df.sentiment == Sentiment.NEGATIVE]"
   ]
  },
  {
   "cell_type": "code",
   "execution_count": 34,
   "id": "94a85d7e",
   "metadata": {},
   "outputs": [
    {
     "data": {
      "text/plain": [
       "POSITIVE    9356\n",
       "NEGATIVE     644\n",
       "Name: sentiment, dtype: int64"
      ]
     },
     "execution_count": 34,
     "metadata": {},
     "output_type": "execute_result"
    }
   ],
   "source": [
    "df.sentiment.value_counts()"
   ]
  },
  {
   "cell_type": "code",
   "execution_count": 35,
   "id": "34c71e5d",
   "metadata": {
    "scrolled": true
   },
   "outputs": [
    {
     "data": {
      "text/plain": [
       "5.0    5930\n",
       "4.0    2448\n",
       "3.0     978\n",
       "2.0     375\n",
       "1.0     269\n",
       "Name: rating, dtype: int64"
      ]
     },
     "execution_count": 35,
     "metadata": {},
     "output_type": "execute_result"
    }
   ],
   "source": [
    "df.rating.value_counts()"
   ]
  },
  {
   "cell_type": "code",
   "execution_count": 36,
   "id": "cfc3e3c2",
   "metadata": {
    "scrolled": true
   },
   "outputs": [
    {
     "data": {
      "text/plain": [
       "10000"
      ]
     },
     "execution_count": 36,
     "metadata": {},
     "output_type": "execute_result"
    }
   ],
   "source": [
    "len(df)"
   ]
  },
  {
   "cell_type": "code",
   "execution_count": 110,
   "id": "6b3e0fcc",
   "metadata": {},
   "outputs": [],
   "source": [
    "import seaborn as sns\n",
    "import matplotlib.pyplot as plt"
   ]
  },
  {
   "cell_type": "code",
   "execution_count": 44,
   "id": "498a2926",
   "metadata": {},
   "outputs": [
    {
     "name": "stderr",
     "output_type": "stream",
     "text": [
      "/home/rgukt/anaconda3/lib/python3.9/site-packages/seaborn/_decorators.py:36: FutureWarning: Pass the following variable as a keyword arg: x. From version 0.12, the only valid positional argument will be `data`, and passing other arguments without an explicit keyword will result in an error or misinterpretation.\n",
      "  warnings.warn(\n"
     ]
    },
    {
     "data": {
      "text/plain": [
       "<AxesSubplot:xlabel='sentiment', ylabel='count'>"
      ]
     },
     "execution_count": 44,
     "metadata": {},
     "output_type": "execute_result"
    },
    {
     "data": {
      "image/png": "[encoded data removed]",
      "text/plain": [
       "<Figure size 432x288 with 1 Axes>"
      ]
     },
     "metadata": {
      "needs_background": "light"
     },
     "output_type": "display_data"
    }
   ],
   "source": [
    "sns.countplot(df.sentiment)"
   ]
  },
  {
   "cell_type": "markdown",
   "id": "9d596ceb",
   "metadata": {},
   "source": [
    "**balnced data**"
   ]
  },
  {
   "cell_type": "code",
   "execution_count": 37,
   "id": "eb515dee",
   "metadata": {},
   "outputs": [],
   "source": [
    "balanced_reviews = ReviewContainer(reviews)\n",
    "balanced_reviews.evenly_distribute()"
   ]
  },
  {
   "cell_type": "code",
   "execution_count": 40,
   "id": "e099b446",
   "metadata": {},
   "outputs": [
    {
     "data": {
      "text/plain": [
       "1288"
      ]
     },
     "execution_count": 40,
     "metadata": {},
     "output_type": "execute_result"
    }
   ],
   "source": [
    "len(balanced_reviews.get_text())"
   ]
  },
  {
   "cell_type": "code",
   "execution_count": 41,
   "id": "70566e61",
   "metadata": {},
   "outputs": [
    {
     "data": {
      "text/plain": [
       "1288"
      ]
     },
     "execution_count": 41,
     "metadata": {},
     "output_type": "execute_result"
    }
   ],
   "source": [
    "len(balanced_reviews.get_sentiment())"
   ]
  },
  {
   "cell_type": "code",
   "execution_count": 42,
   "id": "faa8d03a",
   "metadata": {},
   "outputs": [],
   "source": [
    "import seaborn as sns\n",
    "import matplotlib.pyplot as plt"
   ]
  },
  {
   "cell_type": "code",
   "execution_count": 43,
   "id": "fb8b4cd9",
   "metadata": {
    "scrolled": true
   },
   "outputs": [
    {
     "name": "stderr",
     "output_type": "stream",
     "text": [
      "/home/rgukt/anaconda3/lib/python3.9/site-packages/seaborn/_decorators.py:36: FutureWarning: Pass the following variable as a keyword arg: x. From version 0.12, the only valid positional argument will be `data`, and passing other arguments without an explicit keyword will result in an error or misinterpretation.\n",
      "  warnings.warn(\n"
     ]
    },
    {
     "data": {
      "text/plain": [
       "<AxesSubplot:ylabel='count'>"
      ]
     },
     "execution_count": 43,
     "metadata": {},
     "output_type": "execute_result"
    },
    {
     "data": {
      "image/png": "[encoded data removed]",
      "text/plain": [
       "<Figure size 432x288 with 1 Axes>"
      ]
     },
     "metadata": {
      "needs_background": "light"
     },
     "output_type": "display_data"
    }
   ],
   "source": [
    "sns.countplot(balanced_reviews.get_sentiment())"
   ]
  },
  {
   "cell_type": "code",
   "execution_count": 47,
   "id": "ef9e899d",
   "metadata": {},
   "outputs": [],
   "source": [
    "new_df = pd.DataFrame( data = {\n",
    "    'reviews' : balanced_reviews.get_text(),\n",
    "    'sentiment' : balanced_reviews.get_sentiment()\n",
    "})"
   ]
  },
  {
   "cell_type": "code",
   "execution_count": 48,
   "id": "a639c955",
   "metadata": {},
   "outputs": [
    {
     "data": {
      "text/html": [
       "<div>\n",
       "<style scoped>\n",
       "    .dataframe tbody tr th:only-of-type {\n",
       "        vertical-align: middle;\n",
       "    }\n",
       "\n",
       "    .dataframe tbody tr th {\n",
       "        vertical-align: top;\n",
       "    }\n",
       "\n",
       "    .dataframe thead th {\n",
       "        text-align: right;\n",
       "    }\n",
       "</style>\n",
       "<table border=\"1\" class=\"dataframe\">\n",
       "  <thead>\n",
       "    <tr style=\"text-align: right;\">\n",
       "      <th></th>\n",
       "      <th>reviews</th>\n",
       "      <th>sentiment</th>\n",
       "    </tr>\n",
       "  </thead>\n",
       "  <tbody>\n",
       "    <tr>\n",
       "      <th>0</th>\n",
       "      <td>i like to read good but wholesome books the au...</td>\n",
       "      <td>NEGATIVE</td>\n",
       "    </tr>\n",
       "    <tr>\n",
       "      <th>1</th>\n",
       "      <td>Yikes This book was like reading a 'horror mov...</td>\n",
       "      <td>NEGATIVE</td>\n",
       "    </tr>\n",
       "    <tr>\n",
       "      <th>2</th>\n",
       "      <td>I didn't enjoy reading these books at all it w...</td>\n",
       "      <td>NEGATIVE</td>\n",
       "    </tr>\n",
       "    <tr>\n",
       "      <th>3</th>\n",
       "      <td>A book I just could not finish A woman alone i...</td>\n",
       "      <td>NEGATIVE</td>\n",
       "    </tr>\n",
       "    <tr>\n",
       "      <th>4</th>\n",
       "      <td>bored with sereis couldn't finsih it to long l...</td>\n",
       "      <td>POSITIVE</td>\n",
       "    </tr>\n",
       "  </tbody>\n",
       "</table>\n",
       "</div>"
      ],
      "text/plain": [
       "                                             reviews sentiment\n",
       "0  i like to read good but wholesome books the au...  NEGATIVE\n",
       "1  Yikes This book was like reading a 'horror mov...  NEGATIVE\n",
       "2  I didn't enjoy reading these books at all it w...  NEGATIVE\n",
       "3  A book I just could not finish A woman alone i...  NEGATIVE\n",
       "4  bored with sereis couldn't finsih it to long l...  POSITIVE"
      ]
     },
     "execution_count": 48,
     "metadata": {},
     "output_type": "execute_result"
    }
   ],
   "source": [
    "new_df.head()"
   ]
  },
  {
   "cell_type": "code",
   "execution_count": 49,
   "id": "dbe5c852",
   "metadata": {},
   "outputs": [
    {
     "data": {
      "text/plain": [
       "reviews      1288\n",
       "sentiment    1288\n",
       "dtype: int64"
      ]
     },
     "execution_count": 49,
     "metadata": {},
     "output_type": "execute_result"
    }
   ],
   "source": [
    "new_df.count()"
   ]
  },
  {
   "cell_type": "markdown",
   "id": "22d44200",
   "metadata": {},
   "source": [
    "**data spliting**"
   ]
  },
  {
   "cell_type": "code",
   "execution_count": 54,
   "id": "b09ee2ce",
   "metadata": {},
   "outputs": [],
   "source": [
    "X = new_df['reviews']\n",
    "Y = new_df['sentiment']"
   ]
  },
  {
   "cell_type": "code",
   "execution_count": 53,
   "id": "fae98966",
   "metadata": {},
   "outputs": [],
   "source": [
    "from sklearn.model_selection import train_test_split"
   ]
  },
  {
   "cell_type": "code",
   "execution_count": 55,
   "id": "159912eb",
   "metadata": {},
   "outputs": [
    {
     "name": "stdout",
     "output_type": "stream",
     "text": [
      "966\n",
      "322\n"
     ]
    }
   ],
   "source": [
    "x_train , x_test , y_train , y_test = train_test_split(X,Y,random_state=45 , stratify= Y, test_size = 0.25)\n",
    "print(len(x_train))\n",
    "print(len(x_test))"
   ]
  },
  {
   "cell_type": "markdown",
   "id": "b636406e",
   "metadata": {},
   "source": [
    "**processing data**"
   ]
  },
  {
   "cell_type": "code",
   "execution_count": 58,
   "id": "9d9b0940",
   "metadata": {},
   "outputs": [],
   "source": [
    "from sklearn.feature_extraction.text import TfidfVectorizer\n",
    "vectoriser = TfidfVectorizer()"
   ]
  },
  {
   "cell_type": "code",
   "execution_count": 59,
   "id": "c8e7a04d",
   "metadata": {},
   "outputs": [],
   "source": [
    "x_train_vectorized = vectoriser.fit_transform(x_train)\n",
    "x_test_vectorized = vectoriser.transform(x_test)"
   ]
  },
  {
   "cell_type": "code",
   "execution_count": 64,
   "id": "84ff43d0",
   "metadata": {},
   "outputs": [
    {
     "name": "stdout",
     "output_type": "stream",
     "text": [
      "I really enjoyed this story it was a sweet loving tale that you could simply relax and read  I smiled and laughed with the characters and the fact that it was set in a place I've been and knew many of the spots and locals indicated in the book only made it much more entertaining for me  Loved the Maine setting\n",
      "\n",
      "  (0, 10474)\t0.0869689622595838\n",
      "  (0, 10316)\t0.07723608549093687\n",
      "  (0, 10122)\t0.13138260372809973\n",
      "  (0, 9950)\t0.13856161458082972\n",
      "  (0, 9375)\t0.05280166932543683\n",
      "  (0, 9304)\t0.22967899108868126\n",
      "  (0, 9291)\t0.14136007233323442\n",
      "  (0, 9153)\t0.20350588523004237\n",
      "  (0, 9104)\t0.18666793020680852\n",
      "  (0, 8869)\t0.08198242648851276\n",
      "  (0, 8736)\t0.2828773239664221\n",
      "  (0, 8449)\t0.18666793020680852\n",
      "  (0, 8287)\t0.20096357166736348\n",
      "  (0, 8283)\t0.18666793020680852\n",
      "  (0, 7674)\t0.2828773239664221\n",
      "  (0, 7548)\t0.09992460417756086\n",
      "  (0, 7521)\t0.07587579510066204\n",
      "  (0, 6977)\t0.16793995053089927\n",
      "  (0, 6551)\t0.11998406524527978\n",
      "  (0, 6477)\t0.05715615563186409\n",
      "  (0, 6163)\t0.11025970662740107\n",
      "  (0, 6119)\t0.0942875488312975\n",
      "  (0, 5858)\t0.09445202584717861\n",
      "  (0, 5763)\t0.12061943689178159\n",
      "  (0, 5688)\t0.13336469999313677\n",
      "  (0, 5636)\t0.22362842427452875\n",
      "  (0, 5626)\t0.12574251417936655\n",
      "  (0, 5362)\t0.2555727398667359\n",
      "  (0, 5269)\t0.17891908129974599\n",
      "  (0, 5020)\t0.16825129209073258\n",
      "  (0, 4727)\t0.12720659553636246\n",
      "  (0, 3748)\t0.06806454998234628\n",
      "  (0, 3421)\t0.17365898756767723\n",
      "  (0, 3173)\t0.17891908129974599\n",
      "  (0, 3152)\t0.133809814198854\n",
      "  (0, 2153)\t0.11608660421133253\n",
      "  (0, 1612)\t0.09954764256336625\n",
      "  (0, 1187)\t0.05832437861731971\n",
      "  (0, 983)\t0.11998406524527978\n",
      "  (0, 510)\t0.25287764855128586\n"
     ]
    }
   ],
   "source": [
    "print(x_test.iloc[4])\n",
    "print()\n",
    "print(x_test_vectorized[4])"
   ]
  },
  {
   "cell_type": "markdown",
   "id": "5e0da980",
   "metadata": {},
   "source": [
    "# Creating models\n",
    "\n",
    "->svm\n",
    "\n",
    "->Decision Tree\n",
    "\n",
    "->LogisticRegression\n",
    "\n",
    "->Random forest\n"
   ]
  },
  {
   "cell_type": "code",
   "execution_count": 69,
   "id": "65fee2d4",
   "metadata": {},
   "outputs": [
    {
     "name": "stdout",
     "output_type": "stream",
     "text": [
      "For a story this short it took a long time for the author to get to the point  I found myself skipping pages waiting for something to happen\n",
      "\n",
      "NEGATIVE\n"
     ]
    }
   ],
   "source": [
    "print(x_test[13])\n",
    "print()\n",
    "print(y_test[13])"
   ]
  },
  {
   "cell_type": "markdown",
   "id": "809efa96",
   "metadata": {},
   "source": [
    "**Support vector machine**"
   ]
  },
  {
   "cell_type": "code",
   "execution_count": 75,
   "id": "459c6e68",
   "metadata": {},
   "outputs": [
    {
     "data": {
      "text/plain": [
       "array(['NEGATIVE'], dtype=object)"
      ]
     },
     "execution_count": 75,
     "metadata": {},
     "output_type": "execute_result"
    }
   ],
   "source": [
    "from sklearn.svm import SVC\n",
    "clf_svm = SVC(kernel='linear')\n",
    "clf_svm.fit(x_train_vectorized , y_train)\n",
    "clf_svm.predict(x_test_vectorized[13])"
   ]
  },
  {
   "cell_type": "markdown",
   "id": "5a351c27",
   "metadata": {},
   "source": [
    "**Decision Tree**"
   ]
  },
  {
   "cell_type": "code",
   "execution_count": 79,
   "id": "31da7b6f",
   "metadata": {},
   "outputs": [
    {
     "data": {
      "text/plain": [
       "array(['NEGATIVE'], dtype=object)"
      ]
     },
     "execution_count": 79,
     "metadata": {},
     "output_type": "execute_result"
    }
   ],
   "source": [
    "from sklearn.tree import DecisionTreeClassifier\n",
    "clf_dtc = DecisionTreeClassifier()\n",
    "clf_dtc.fit(x_train_vectorized , y_train)\n",
    "clf_dtc.predict(x_test_vectorized[13])"
   ]
  },
  {
   "cell_type": "markdown",
   "id": "32867271",
   "metadata": {},
   "source": [
    "**Random forest**"
   ]
  },
  {
   "cell_type": "code",
   "execution_count": 81,
   "id": "fc82a00c",
   "metadata": {},
   "outputs": [
    {
     "data": {
      "text/plain": [
       "array(['NEGATIVE'], dtype=object)"
      ]
     },
     "execution_count": 81,
     "metadata": {},
     "output_type": "execute_result"
    }
   ],
   "source": [
    "from sklearn.ensemble import RandomForestClassifier\n",
    "\n",
    "clf_rfc = RandomForestClassifier()\n",
    "clf_rfc.fit(x_train_vectorized , y_train)\n",
    "clf_rfc.predict(x_test_vectorized[13])"
   ]
  },
  {
   "cell_type": "markdown",
   "id": "af96d3fa",
   "metadata": {},
   "source": [
    "**LogisticRegression**"
   ]
  },
  {
   "cell_type": "code",
   "execution_count": 82,
   "id": "7fbd5440",
   "metadata": {
    "scrolled": false
   },
   "outputs": [
    {
     "data": {
      "text/plain": [
       "array(['POSITIVE'], dtype=object)"
      ]
     },
     "execution_count": 82,
     "metadata": {},
     "output_type": "execute_result"
    }
   ],
   "source": [
    "from sklearn.linear_model import LogisticRegression\n",
    "\n",
    "clf_lrc = LogisticRegression()\n",
    "clf_lrc.fit(x_train_vectorized , y_train)\n",
    "clf_lrc.predict(x_test_vectorized[13])"
   ]
  },
  {
   "cell_type": "markdown",
   "id": "50287a22",
   "metadata": {},
   "source": [
    "# Evalution"
   ]
  },
  {
   "cell_type": "markdown",
   "id": "5ff8a309",
   "metadata": {},
   "source": [
    "**comparing the scores of models**"
   ]
  },
  {
   "cell_type": "code",
   "execution_count": 84,
   "id": "040c97a7",
   "metadata": {
    "scrolled": true
   },
   "outputs": [
    {
     "name": "stdout",
     "output_type": "stream",
     "text": [
      "0.8291925465838509\n",
      "0.6583850931677019\n",
      "0.8198757763975155\n",
      "0.8136645962732919\n"
     ]
    }
   ],
   "source": [
    "print(clf_svm.score(x_test_vectorized,y_test))\n",
    "print(clf_dtc.score(x_test_vectorized,y_test))\n",
    "print(clf_rfc.score(x_test_vectorized , y_test))\n",
    "print(clf_lrc.score(x_test_vectorized,y_test))"
   ]
  },
  {
   "cell_type": "markdown",
   "id": "1438f0ef",
   "metadata": {},
   "source": [
    "**Tuning the best model(Grid Search)**"
   ]
  },
  {
   "cell_type": "code",
   "execution_count": 88,
   "id": "249985df",
   "metadata": {},
   "outputs": [
    {
     "data": {
      "text/plain": [
       "GridSearchCV(cv=5, estimator=SVC(),\n",
       "             param_grid={'C': [0.5, 1, 5, 10, 15],\n",
       "                         'kernel': ['linear', 'poly', 'rbf', 'sigmoid']})"
      ]
     },
     "execution_count": 88,
     "metadata": {},
     "output_type": "execute_result"
    }
   ],
   "source": [
    "from sklearn.model_selection import GridSearchCV\n",
    "\n",
    "parameters =  {\n",
    "    'C':[0.5,1,5,10,15],\n",
    "    'kernel':['linear', 'poly', 'rbf', 'sigmoid']\n",
    "}\n",
    "\n",
    "svc = SVC()\n",
    "classifier = GridSearchCV(svc , parameters , cv = 5)\n",
    "classifier.fit(x_train_vectorized , y_train)"
   ]
  },
  {
   "cell_type": "code",
   "execution_count": 89,
   "id": "aee02ae3",
   "metadata": {},
   "outputs": [
    {
     "data": {
      "text/plain": [
       "0.8115805779605791"
      ]
     },
     "execution_count": 89,
     "metadata": {},
     "output_type": "execute_result"
    }
   ],
   "source": [
    "classifier.best_score_"
   ]
  },
  {
   "cell_type": "code",
   "execution_count": 90,
   "id": "24b59e9a",
   "metadata": {},
   "outputs": [
    {
     "data": {
      "text/plain": [
       "{'C': 0.5, 'kernel': 'linear'}"
      ]
     },
     "execution_count": 90,
     "metadata": {},
     "output_type": "execute_result"
    }
   ],
   "source": [
    "classifier.best_params_"
   ]
  },
  {
   "cell_type": "code",
   "execution_count": 92,
   "id": "88494bab",
   "metadata": {},
   "outputs": [
    {
     "data": {
      "text/plain": [
       "0.8291925465838509"
      ]
     },
     "execution_count": 92,
     "metadata": {},
     "output_type": "execute_result"
    }
   ],
   "source": [
    "classifier.score(x_test_vectorized , y_test)"
   ]
  },
  {
   "cell_type": "markdown",
   "id": "9509b5eb",
   "metadata": {},
   "source": [
    "# Saving the model"
   ]
  },
  {
   "cell_type": "code",
   "execution_count": 94,
   "id": "e40b6aa4",
   "metadata": {},
   "outputs": [],
   "source": [
    "import pickle"
   ]
  },
  {
   "cell_type": "code",
   "execution_count": 95,
   "id": "c0e8f5dd",
   "metadata": {},
   "outputs": [],
   "source": [
    "with open('sentiment_classifier.pkl', 'wb') as model:\n",
    "    pickle.dump(classifier,model)"
   ]
  },
  {
   "cell_type": "markdown",
   "id": "93a848ff",
   "metadata": {},
   "source": [
    "# Loading the model "
   ]
  },
  {
   "cell_type": "code",
   "execution_count": 96,
   "id": "d1a81192",
   "metadata": {},
   "outputs": [],
   "source": [
    "model= pickle.load(open('sentiment_classifier.pkl', 'rb'))"
   ]
  },
  {
   "cell_type": "markdown",
   "id": "e13c59be",
   "metadata": {},
   "source": [
    "# Predictive System"
   ]
  },
  {
   "cell_type": "code",
   "execution_count": 105,
   "id": "fa77ba3e",
   "metadata": {},
   "outputs": [],
   "source": [
    "def find_sentiment(text):\n",
    "    processed_text = text.replace('.','').replace(',','').replace('?','').replace('!','').replace('#','')\n",
    "    vectorized_text = vectoriser.transform([processed_text])\n",
    "    return model.predict(vectorized_text)[0]"
   ]
  },
  {
   "cell_type": "code",
   "execution_count": 106,
   "id": "31cb60ba",
   "metadata": {},
   "outputs": [
    {
     "data": {
      "text/plain": [
       "'POSITIVE'"
      ]
     },
     "execution_count": 106,
     "metadata": {},
     "output_type": "execute_result"
    }
   ],
   "source": [
    "text = 'this is good'\n",
    "find_sentiment(text)"
   ]
  },
  {
   "cell_type": "code",
   "execution_count": 107,
   "id": "3082b50f",
   "metadata": {},
   "outputs": [
    {
     "data": {
      "text/plain": [
       "'NEGATIVE'"
      ]
     },
     "execution_count": 107,
     "metadata": {},
     "output_type": "execute_result"
    }
   ],
   "source": [
    "text = 'not much interesting'\n",
    "find_sentiment(text)"
   ]
  },
  {
   "cell_type": "code",
   "execution_count": 109,
   "id": "87e6a1ec",
   "metadata": {},
   "outputs": [
    {
     "data": {
      "text/plain": [
       "'POSITIVE'"
      ]
     },
     "execution_count": 109,
     "metadata": {},
     "output_type": "execute_result"
    }
   ],
   "source": [
    "text = 'this is an interesting book'\n",
    "find_sentiment(text)"
   ]
  }
 ],
 "metadata": {
  "kernelspec": {
   "display_name": "Python 3 (ipykernel)",
   "language": "python",
   "name": "python3"
  },
  "language_info": {
   "codemirror_mode": {
    "name": "ipython",
    "version": 3
   },
   "file_extension": ".py",
   "mimetype": "text/x-python",
   "name": "python",
   "nbconvert_exporter": "python",
   "pygments_lexer": "ipython3",
   "version": "3.9.12"
  }
 },
 "nbformat": 4,
 "nbformat_minor": 5
}
